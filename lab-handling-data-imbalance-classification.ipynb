{
 "cells": [
  {
   "cell_type": "code",
   "execution_count": 22,
   "id": "303cd9f5-22b6-495a-ad59-b4cd60f7e385",
   "metadata": {},
   "outputs": [],
   "source": [
    "import pandas as pd\n",
    "import numpy as np\n",
    "from sklearn.model_selection import train_test_split\n",
    "from sklearn.preprocessing import MinMaxScaler, StandardScaler, OneHotEncoder, OrdinalEncoder\n",
    "from sklearn.compose import ColumnTransformer\n",
    "from sklearn.pipeline import Pipeline\n",
    "from sklearn.linear_model import LogisticRegression\n",
    "from sklearn.metrics import accuracy_score\n",
    "import statsmodels.api as sm\n"
   ]
  },
  {
   "cell_type": "code",
   "execution_count": 9,
   "id": "408f5606-c69f-4332-a17f-dcfdf266d214",
   "metadata": {},
   "outputs": [],
   "source": [
    "pd.set_option('display.max_columns', None)"
   ]
  },
  {
   "cell_type": "code",
   "execution_count": 3,
   "id": "05d33c14-9aa7-4090-b169-58d7ea0a26d8",
   "metadata": {},
   "outputs": [
    {
     "data": {
      "text/plain": [
       "(95412, 315)"
      ]
     },
     "execution_count": 3,
     "metadata": {},
     "output_type": "execute_result"
    }
   ],
   "source": [
    "numerical = pd.read_csv('numerical.csv')\n",
    "numerical.shape"
   ]
  },
  {
   "cell_type": "code",
   "execution_count": 5,
   "id": "fa173ae5-88fb-4d01-9768-96a61a38b23e",
   "metadata": {},
   "outputs": [
    {
     "name": "stdout",
     "output_type": "stream",
     "text": [
      "TCODE: int64\n",
      "AGE: float64\n",
      "INCOME: int64\n",
      "WEALTH1: int64\n",
      "HIT: int64\n",
      "MALEMILI: int64\n",
      "MALEVET: int64\n",
      "VIETVETS: int64\n",
      "WWIIVETS: int64\n",
      "LOCALGOV: int64\n",
      "STATEGOV: int64\n",
      "FEDGOV: int64\n",
      "WEALTH2: int64\n",
      "POP901: int64\n",
      "POP902: int64\n",
      "POP903: int64\n",
      "POP90C1: int64\n",
      "POP90C2: int64\n",
      "POP90C3: int64\n",
      "POP90C4: int64\n",
      "POP90C5: int64\n",
      "ETH1: int64\n",
      "ETH2: int64\n",
      "ETH3: int64\n",
      "ETH4: int64\n",
      "ETH5: int64\n",
      "ETH6: int64\n",
      "ETH7: int64\n",
      "ETH8: int64\n",
      "ETH9: int64\n",
      "ETH10: int64\n",
      "ETH11: int64\n",
      "ETH12: int64\n",
      "ETH13: int64\n",
      "ETH14: int64\n",
      "ETH15: int64\n",
      "ETH16: int64\n",
      "AGE901: int64\n",
      "AGE902: int64\n",
      "AGE903: int64\n",
      "AGE904: int64\n",
      "AGE905: int64\n",
      "AGE906: int64\n",
      "AGE907: int64\n",
      "CHIL1: int64\n",
      "CHIL2: int64\n",
      "CHIL3: int64\n",
      "AGEC1: int64\n",
      "AGEC2: int64\n",
      "AGEC3: int64\n",
      "AGEC4: int64\n",
      "AGEC5: int64\n",
      "AGEC6: int64\n",
      "AGEC7: int64\n",
      "CHILC1: int64\n",
      "CHILC2: int64\n",
      "CHILC3: int64\n",
      "CHILC4: int64\n",
      "CHILC5: int64\n",
      "HHAGE1: int64\n",
      "HHAGE2: int64\n",
      "HHAGE3: int64\n",
      "HHN1: int64\n",
      "HHN2: int64\n",
      "HHN3: int64\n",
      "HHN4: int64\n",
      "HHN5: int64\n",
      "HHN6: int64\n",
      "MARR1: int64\n",
      "MARR2: int64\n",
      "MARR3: int64\n",
      "MARR4: int64\n",
      "HHP1: int64\n",
      "HHP2: int64\n",
      "DW1: int64\n",
      "DW2: int64\n",
      "DW3: int64\n",
      "DW4: int64\n",
      "DW5: int64\n",
      "DW6: int64\n",
      "DW7: int64\n",
      "DW8: int64\n",
      "DW9: int64\n",
      "HV1: int64\n",
      "HV2: int64\n",
      "HV3: int64\n",
      "HV4: int64\n",
      "HU1: int64\n",
      "HU2: int64\n",
      "HU3: int64\n",
      "HU4: int64\n",
      "HU5: int64\n",
      "HHD1: int64\n",
      "HHD2: int64\n",
      "HHD3: int64\n",
      "HHD4: int64\n",
      "HHD5: int64\n",
      "HHD6: int64\n",
      "HHD7: int64\n",
      "HHD8: int64\n",
      "HHD9: int64\n",
      "HHD10: int64\n",
      "HHD11: int64\n",
      "HHD12: int64\n",
      "ETHC1: int64\n",
      "ETHC2: int64\n",
      "ETHC3: int64\n",
      "ETHC4: int64\n",
      "ETHC5: int64\n",
      "ETHC6: int64\n",
      "HVP1: int64\n",
      "HVP2: int64\n",
      "HVP3: int64\n",
      "HVP4: int64\n",
      "HVP5: int64\n",
      "HVP6: int64\n",
      "HUR1: int64\n",
      "HUR2: int64\n",
      "RHP1: int64\n",
      "RHP2: int64\n",
      "RHP3: int64\n",
      "RHP4: int64\n",
      "HUPA1: int64\n",
      "HUPA2: int64\n",
      "HUPA3: int64\n",
      "HUPA4: int64\n",
      "HUPA5: int64\n",
      "HUPA6: int64\n",
      "HUPA7: int64\n",
      "RP1: int64\n",
      "RP2: int64\n",
      "RP3: int64\n",
      "RP4: int64\n",
      "MSA: float64\n",
      "ADI: float64\n",
      "DMA: float64\n",
      "IC1: int64\n",
      "IC2: int64\n",
      "IC3: int64\n",
      "IC4: int64\n",
      "IC5: int64\n",
      "IC6: int64\n",
      "IC7: int64\n",
      "IC8: int64\n",
      "IC9: int64\n",
      "IC10: int64\n",
      "IC11: int64\n",
      "IC12: int64\n",
      "IC13: int64\n",
      "IC14: int64\n",
      "IC15: int64\n",
      "IC16: int64\n",
      "IC17: int64\n",
      "IC18: int64\n",
      "IC19: int64\n",
      "IC20: int64\n",
      "IC21: int64\n",
      "IC22: int64\n",
      "IC23: int64\n",
      "HHAS1: int64\n",
      "HHAS2: int64\n",
      "HHAS3: int64\n",
      "HHAS4: int64\n",
      "MC1: int64\n",
      "MC2: int64\n",
      "MC3: int64\n",
      "TPE1: int64\n",
      "TPE2: int64\n",
      "TPE3: int64\n",
      "TPE4: int64\n",
      "TPE5: int64\n",
      "TPE6: int64\n",
      "TPE7: int64\n",
      "TPE8: int64\n",
      "TPE9: int64\n",
      "PEC1: int64\n",
      "PEC2: int64\n",
      "TPE10: int64\n",
      "TPE11: int64\n",
      "TPE12: int64\n",
      "TPE13: int64\n",
      "LFC1: int64\n",
      "LFC2: int64\n",
      "LFC3: int64\n",
      "LFC4: int64\n",
      "LFC5: int64\n",
      "LFC6: int64\n",
      "LFC7: int64\n",
      "LFC8: int64\n",
      "LFC9: int64\n",
      "LFC10: int64\n",
      "OCC1: int64\n",
      "OCC2: int64\n",
      "OCC3: int64\n",
      "OCC4: int64\n",
      "OCC5: int64\n",
      "OCC6: int64\n",
      "OCC7: int64\n",
      "OCC8: int64\n",
      "OCC9: int64\n",
      "OCC10: int64\n",
      "OCC11: int64\n",
      "OCC12: int64\n",
      "OCC13: int64\n",
      "EIC1: int64\n",
      "EIC2: int64\n",
      "EIC3: int64\n",
      "EIC4: int64\n",
      "EIC5: int64\n",
      "EIC6: int64\n",
      "EIC7: int64\n",
      "EIC8: int64\n",
      "EIC9: int64\n",
      "EIC10: int64\n",
      "EIC11: int64\n",
      "EIC12: int64\n",
      "EIC13: int64\n",
      "EIC14: int64\n",
      "EIC15: int64\n",
      "EIC16: int64\n",
      "OEDC1: int64\n",
      "OEDC2: int64\n",
      "OEDC3: int64\n",
      "OEDC4: int64\n",
      "OEDC5: int64\n",
      "OEDC6: int64\n",
      "OEDC7: int64\n",
      "EC1: int64\n",
      "EC2: int64\n",
      "EC3: int64\n",
      "EC4: int64\n",
      "EC5: int64\n",
      "EC6: int64\n",
      "EC7: int64\n",
      "EC8: int64\n",
      "SEC1: int64\n",
      "SEC2: int64\n",
      "SEC3: int64\n",
      "SEC4: int64\n",
      "SEC5: int64\n",
      "AFC1: int64\n",
      "AFC2: int64\n",
      "AFC3: int64\n",
      "AFC4: int64\n",
      "AFC5: int64\n",
      "AFC6: int64\n",
      "VC1: int64\n",
      "VC2: int64\n",
      "VC3: int64\n",
      "VC4: int64\n",
      "ANC1: int64\n",
      "ANC2: int64\n",
      "ANC3: int64\n",
      "ANC4: int64\n",
      "ANC5: int64\n",
      "ANC6: int64\n",
      "ANC7: int64\n",
      "ANC8: int64\n",
      "ANC9: int64\n",
      "ANC10: int64\n",
      "ANC11: int64\n",
      "ANC12: int64\n",
      "ANC13: int64\n",
      "ANC14: int64\n",
      "ANC15: int64\n",
      "POBC1: int64\n",
      "POBC2: int64\n",
      "LSC1: int64\n",
      "LSC2: int64\n",
      "LSC3: int64\n",
      "LSC4: int64\n",
      "VOC1: int64\n",
      "VOC2: int64\n",
      "VOC3: int64\n",
      "HC1: int64\n",
      "HC2: int64\n",
      "HC3: int64\n",
      "HC4: int64\n",
      "HC5: int64\n",
      "HC6: int64\n",
      "HC7: int64\n",
      "HC8: int64\n",
      "HC9: int64\n",
      "HC10: int64\n",
      "HC11: int64\n",
      "HC12: int64\n",
      "HC13: int64\n",
      "HC14: int64\n",
      "HC15: int64\n",
      "HC16: int64\n",
      "HC17: int64\n",
      "HC18: int64\n",
      "HC19: int64\n",
      "HC20: int64\n",
      "HC21: int64\n",
      "MHUC1: int64\n",
      "MHUC2: int64\n",
      "AC1: int64\n",
      "AC2: int64\n",
      "CARDPROM: int64\n",
      "NUMPROM: int64\n",
      "CARDPM12: int64\n",
      "NUMPRM12: int64\n",
      "RAMNTALL: float64\n",
      "NGIFTALL: int64\n",
      "CARDGIFT: int64\n",
      "MINRAMNT: float64\n",
      "MAXRAMNT: float64\n",
      "LASTGIFT: float64\n",
      "TIMELAG: int64\n",
      "AVGGIFT: float64\n",
      "CONTROLN: int64\n",
      "HPHONE_D: int64\n",
      "RFA_2F: int64\n",
      "CLUSTER2: int64\n"
     ]
    }
   ],
   "source": [
    "dtypes_dict = numerical.dtypes.to_dict()\n",
    "for column, dtype in dtypes_dict.items():\n",
    "    print(f'{column}: {dtype}')\n",
    "#I don't think we have to change any data type"
   ]
  },
  {
   "cell_type": "code",
   "execution_count": 6,
   "id": "c252306c-6382-43e0-bbf3-a697b7bb6521",
   "metadata": {},
   "outputs": [
    {
     "data": {
      "text/plain": [
       "(95412, 22)"
      ]
     },
     "execution_count": 6,
     "metadata": {},
     "output_type": "execute_result"
    }
   ],
   "source": [
    "categorical = pd.read_csv('categorical.csv')\n",
    "categorical.shape"
   ]
  },
  {
   "cell_type": "code",
   "execution_count": 7,
   "id": "b0744cc3-a3f1-4896-974d-2689f2a91dfe",
   "metadata": {},
   "outputs": [
    {
     "data": {
      "text/plain": [
       "STATE           object\n",
       "CLUSTER          int64\n",
       "HOMEOWNR        object\n",
       "GENDER          object\n",
       "DATASRCE         int64\n",
       "RFA_2R          object\n",
       "RFA_2A          object\n",
       "GEOCODE2        object\n",
       "DOMAIN_A        object\n",
       "DOMAIN_B         int64\n",
       "ODATEW_YR        int64\n",
       "ODATEW_MM        int64\n",
       "DOB_YR           int64\n",
       "DOB_MM           int64\n",
       "MINRDATE_YR      int64\n",
       "MINRDATE_MM      int64\n",
       "MAXRDATE_YR      int64\n",
       "MAXRDATE_MM      int64\n",
       "LASTDATE_YR      int64\n",
       "LASTDATE_MM      int64\n",
       "FIRSTDATE_YR     int64\n",
       "FIRSTDATE_MM     int64\n",
       "dtype: object"
      ]
     },
     "execution_count": 7,
     "metadata": {},
     "output_type": "execute_result"
    }
   ],
   "source": [
    "categorical.dtypes\n",
    "#also here nothing to be changed"
   ]
  },
  {
   "cell_type": "code",
   "execution_count": 15,
   "id": "bf622896-0990-45b6-b02e-20705cbe29cf",
   "metadata": {},
   "outputs": [
    {
     "data": {
      "text/html": [
       "<div>\n",
       "<style scoped>\n",
       "    .dataframe tbody tr th:only-of-type {\n",
       "        vertical-align: middle;\n",
       "    }\n",
       "\n",
       "    .dataframe tbody tr th {\n",
       "        vertical-align: top;\n",
       "    }\n",
       "\n",
       "    .dataframe thead th {\n",
       "        text-align: right;\n",
       "    }\n",
       "</style>\n",
       "<table border=\"1\" class=\"dataframe\">\n",
       "  <thead>\n",
       "    <tr style=\"text-align: right;\">\n",
       "      <th></th>\n",
       "      <th>TARGET_B</th>\n",
       "      <th>TARGET_D</th>\n",
       "    </tr>\n",
       "  </thead>\n",
       "  <tbody>\n",
       "    <tr>\n",
       "      <th>0</th>\n",
       "      <td>0</td>\n",
       "      <td>0.0</td>\n",
       "    </tr>\n",
       "    <tr>\n",
       "      <th>1</th>\n",
       "      <td>0</td>\n",
       "      <td>0.0</td>\n",
       "    </tr>\n",
       "    <tr>\n",
       "      <th>2</th>\n",
       "      <td>0</td>\n",
       "      <td>0.0</td>\n",
       "    </tr>\n",
       "    <tr>\n",
       "      <th>3</th>\n",
       "      <td>0</td>\n",
       "      <td>0.0</td>\n",
       "    </tr>\n",
       "    <tr>\n",
       "      <th>4</th>\n",
       "      <td>0</td>\n",
       "      <td>0.0</td>\n",
       "    </tr>\n",
       "  </tbody>\n",
       "</table>\n",
       "</div>"
      ],
      "text/plain": [
       "   TARGET_B  TARGET_D\n",
       "0         0       0.0\n",
       "1         0       0.0\n",
       "2         0       0.0\n",
       "3         0       0.0\n",
       "4         0       0.0"
      ]
     },
     "execution_count": 15,
     "metadata": {},
     "output_type": "execute_result"
    }
   ],
   "source": [
    "targets = pd.read_csv('target.csv')\n",
    "targets.head()"
   ]
  },
  {
   "cell_type": "code",
   "execution_count": 16,
   "id": "54133d05-c275-4cf3-912d-da0f34e184a6",
   "metadata": {},
   "outputs": [
    {
     "data": {
      "text/plain": [
       "(95412, 339)"
      ]
     },
     "execution_count": 16,
     "metadata": {},
     "output_type": "execute_result"
    }
   ],
   "source": [
    "all_data = pd.concat((numerical,categorical, targets),axis=1)\n",
    "all_data.shape"
   ]
  },
  {
   "cell_type": "code",
   "execution_count": 18,
   "id": "6049682e-e171-43d9-b36e-47c6cfad9a72",
   "metadata": {},
   "outputs": [],
   "source": [
    "X = all_data.drop(columns=['TARGET_B','TARGET_D'])\n",
    "y = all_data['TARGET_B']"
   ]
  },
  {
   "cell_type": "code",
   "execution_count": 19,
   "id": "e6357cb4-656b-4608-89e6-a98edbce7a76",
   "metadata": {},
   "outputs": [],
   "source": [
    "from sklearn.model_selection import train_test_split\n",
    "X_train, X_test, y_train, y_test = train_test_split(X, y, test_size=0.2, random_state=42)\n",
    "\n",
    "numerical_cols = X.select_dtypes(include=['int64', 'float64']).columns\n",
    "categorical_cols = X.select_dtypes(include=['object']).columns\n",
    "\n",
    "train_num = X_train[numerical_cols]\n",
    "train_cat = X_train[categorical_cols]\n",
    "test_num = X_test[numerical_cols]\n",
    "test_cat = X_test[categorical_cols]"
   ]
  },
  {
   "cell_type": "code",
   "execution_count": 23,
   "id": "97d289cf-fdfa-4d92-abaa-3656ac5c3e7b",
   "metadata": {},
   "outputs": [
    {
     "name": "stderr",
     "output_type": "stream",
     "text": [
      "C:\\Users\\m-syr\\anaconda3\\Lib\\site-packages\\sklearn\\preprocessing\\_encoders.py:868: FutureWarning: `sparse` was renamed to `sparse_output` in version 1.2 and will be removed in 1.4. `sparse_output` is ignored unless you leave `sparse` to its default value.\n",
      "  warnings.warn(\n"
     ]
    }
   ],
   "source": [
    "# Choose scaler\n",
    "scaler = StandardScaler()  # Or use MinMaxScaler()\n",
    "\n",
    "# Choose encoder\n",
    "encoder = OneHotEncoder(drop='first', sparse=False)  # Or use OrdinalEncoder()\n",
    "\n",
    "# Scale and encode\n",
    "preprocessor = ColumnTransformer(\n",
    "    transformers=[\n",
    "        ('num', scaler, numerical_cols),\n",
    "        ('cat', encoder, categorical_cols)\n",
    "    ]\n",
    ")\n",
    "\n",
    "# Fit on training data and transform both training and test data\n",
    "X_train_processed = preprocessor.fit_transform(X_train)\n",
    "X_test_processed = preprocessor.transform(X_test)\n",
    "\n",
    "# Convert back to DataFrame to combine numerical and categorical parts\n",
    "X_train = pd.DataFrame(X_train_processed, columns=preprocessor.get_feature_names_out())\n",
    "X_test = pd.DataFrame(X_test_processed, columns=preprocessor.get_feature_names_out())\n"
   ]
  },
  {
   "cell_type": "code",
   "execution_count": 24,
   "id": "54786abf-eb2d-4688-96af-2fae9d7a55ce",
   "metadata": {},
   "outputs": [
    {
     "name": "stderr",
     "output_type": "stream",
     "text": [
      "C:\\Users\\m-syr\\anaconda3\\Lib\\site-packages\\sklearn\\linear_model\\_logistic.py:458: ConvergenceWarning: lbfgs failed to converge (status=1):\n",
      "STOP: TOTAL NO. of ITERATIONS REACHED LIMIT.\n",
      "\n",
      "Increase the number of iterations (max_iter) or scale the data as shown in:\n",
      "    https://scikit-learn.org/stable/modules/preprocessing.html\n",
      "Please also refer to the documentation for alternative solver options:\n",
      "    https://scikit-learn.org/stable/modules/linear_model.html#logistic-regression\n",
      "  n_iter_i = _check_optimize_result(\n"
     ]
    },
    {
     "data": {
      "text/html": [
       "<style>#sk-container-id-1 {color: black;background-color: white;}#sk-container-id-1 pre{padding: 0;}#sk-container-id-1 div.sk-toggleable {background-color: white;}#sk-container-id-1 label.sk-toggleable__label {cursor: pointer;display: block;width: 100%;margin-bottom: 0;padding: 0.3em;box-sizing: border-box;text-align: center;}#sk-container-id-1 label.sk-toggleable__label-arrow:before {content: \"▸\";float: left;margin-right: 0.25em;color: #696969;}#sk-container-id-1 label.sk-toggleable__label-arrow:hover:before {color: black;}#sk-container-id-1 div.sk-estimator:hover label.sk-toggleable__label-arrow:before {color: black;}#sk-container-id-1 div.sk-toggleable__content {max-height: 0;max-width: 0;overflow: hidden;text-align: left;background-color: #f0f8ff;}#sk-container-id-1 div.sk-toggleable__content pre {margin: 0.2em;color: black;border-radius: 0.25em;background-color: #f0f8ff;}#sk-container-id-1 input.sk-toggleable__control:checked~div.sk-toggleable__content {max-height: 200px;max-width: 100%;overflow: auto;}#sk-container-id-1 input.sk-toggleable__control:checked~label.sk-toggleable__label-arrow:before {content: \"▾\";}#sk-container-id-1 div.sk-estimator input.sk-toggleable__control:checked~label.sk-toggleable__label {background-color: #d4ebff;}#sk-container-id-1 div.sk-label input.sk-toggleable__control:checked~label.sk-toggleable__label {background-color: #d4ebff;}#sk-container-id-1 input.sk-hidden--visually {border: 0;clip: rect(1px 1px 1px 1px);clip: rect(1px, 1px, 1px, 1px);height: 1px;margin: -1px;overflow: hidden;padding: 0;position: absolute;width: 1px;}#sk-container-id-1 div.sk-estimator {font-family: monospace;background-color: #f0f8ff;border: 1px dotted black;border-radius: 0.25em;box-sizing: border-box;margin-bottom: 0.5em;}#sk-container-id-1 div.sk-estimator:hover {background-color: #d4ebff;}#sk-container-id-1 div.sk-parallel-item::after {content: \"\";width: 100%;border-bottom: 1px solid gray;flex-grow: 1;}#sk-container-id-1 div.sk-label:hover label.sk-toggleable__label {background-color: #d4ebff;}#sk-container-id-1 div.sk-serial::before {content: \"\";position: absolute;border-left: 1px solid gray;box-sizing: border-box;top: 0;bottom: 0;left: 50%;z-index: 0;}#sk-container-id-1 div.sk-serial {display: flex;flex-direction: column;align-items: center;background-color: white;padding-right: 0.2em;padding-left: 0.2em;position: relative;}#sk-container-id-1 div.sk-item {position: relative;z-index: 1;}#sk-container-id-1 div.sk-parallel {display: flex;align-items: stretch;justify-content: center;background-color: white;position: relative;}#sk-container-id-1 div.sk-item::before, #sk-container-id-1 div.sk-parallel-item::before {content: \"\";position: absolute;border-left: 1px solid gray;box-sizing: border-box;top: 0;bottom: 0;left: 50%;z-index: -1;}#sk-container-id-1 div.sk-parallel-item {display: flex;flex-direction: column;z-index: 1;position: relative;background-color: white;}#sk-container-id-1 div.sk-parallel-item:first-child::after {align-self: flex-end;width: 50%;}#sk-container-id-1 div.sk-parallel-item:last-child::after {align-self: flex-start;width: 50%;}#sk-container-id-1 div.sk-parallel-item:only-child::after {width: 0;}#sk-container-id-1 div.sk-dashed-wrapped {border: 1px dashed gray;margin: 0 0.4em 0.5em 0.4em;box-sizing: border-box;padding-bottom: 0.4em;background-color: white;}#sk-container-id-1 div.sk-label label {font-family: monospace;font-weight: bold;display: inline-block;line-height: 1.2em;}#sk-container-id-1 div.sk-label-container {text-align: center;}#sk-container-id-1 div.sk-container {/* jupyter's `normalize.less` sets `[hidden] { display: none; }` but bootstrap.min.css set `[hidden] { display: none !important; }` so we also need the `!important` here to be able to override the default hidden behavior on the sphinx rendered scikit-learn.org. See: https://github.com/scikit-learn/scikit-learn/issues/21755 */display: inline-block !important;position: relative;}#sk-container-id-1 div.sk-text-repr-fallback {display: none;}</style><div id=\"sk-container-id-1\" class=\"sk-top-container\"><div class=\"sk-text-repr-fallback\"><pre>LogisticRegression()</pre><b>In a Jupyter environment, please rerun this cell to show the HTML representation or trust the notebook. <br />On GitHub, the HTML representation is unable to render, please try loading this page with nbviewer.org.</b></div><div class=\"sk-container\" hidden><div class=\"sk-item\"><div class=\"sk-estimator sk-toggleable\"><input class=\"sk-toggleable__control sk-hidden--visually\" id=\"sk-estimator-id-1\" type=\"checkbox\" checked><label for=\"sk-estimator-id-1\" class=\"sk-toggleable__label sk-toggleable__label-arrow\">LogisticRegression</label><div class=\"sk-toggleable__content\"><pre>LogisticRegression()</pre></div></div></div></div></div>"
      ],
      "text/plain": [
       "LogisticRegression()"
      ]
     },
     "execution_count": 24,
     "metadata": {},
     "output_type": "execute_result"
    }
   ],
   "source": [
    "model = LogisticRegression()\n",
    "model.fit(X_train, y_train)"
   ]
  },
  {
   "cell_type": "code",
   "execution_count": 25,
   "id": "a3132022-ba0f-454e-a8d5-addb1090f8bc",
   "metadata": {},
   "outputs": [
    {
     "name": "stdout",
     "output_type": "stream",
     "text": [
      "Accuracy: 0.95\n"
     ]
    }
   ],
   "source": [
    "y_pred = model.predict(X_test)\n",
    "accuracy = accuracy_score(y_test, y_pred)\n",
    "print(f'Accuracy: {accuracy:.2f}')"
   ]
  },
  {
   "cell_type": "code",
   "execution_count": 27,
   "id": "88014183-d3df-4a8d-b9e2-fa43cc363571",
   "metadata": {},
   "outputs": [
    {
     "name": "stdout",
     "output_type": "stream",
     "text": [
      "Class distribution in the training set: Counter({0: 72464, 1: 3865})\n"
     ]
    }
   ],
   "source": [
    "from collections import Counter\n",
    "class_counts = Counter(y_train)\n",
    "print(f'Class distribution in the training set: {class_counts}')"
   ]
  },
  {
   "cell_type": "code",
   "execution_count": 29,
   "id": "adcda307-5d66-44af-ac19-c9ae9370f045",
   "metadata": {},
   "outputs": [],
   "source": [
    "from sklearn.utils import resample\n",
    "train_data = pd.concat([X_train, y_train.reset_index(drop=True)], axis=1)\n",
    "majority_class = train_data[train_data['TARGET_B'] == 0]\n",
    "minority_class = train_data[train_data['TARGET_B'] == 1]"
   ]
  },
  {
   "cell_type": "code",
   "execution_count": 31,
   "id": "7cdb0165-559c-4480-b72f-f01e8c452622",
   "metadata": {},
   "outputs": [],
   "source": [
    "#Upsample\n",
    "minority_upsampled = resample(minority_class,\n",
    "                              replace=True,  # Sample with replacement\n",
    "                              n_samples=len(majority_class),  # Match number of majority class\n",
    "                              random_state=42)\n",
    "\n",
    "upsampled_data = pd.concat([majority_class, minority_upsampled])"
   ]
  },
  {
   "cell_type": "code",
   "execution_count": 33,
   "id": "ba53dbff-523d-4e19-b785-b91a15b84272",
   "metadata": {},
   "outputs": [],
   "source": [
    "# Separate features and target\n",
    "X_train_upsampled = upsampled_data.drop('TARGET_B', axis=1)\n",
    "y_train_upsampled = upsampled_data['TARGET_B']"
   ]
  },
  {
   "cell_type": "code",
   "execution_count": 34,
   "id": "a04ea1b4-7d2a-4164-8425-e4019f78c4f7",
   "metadata": {},
   "outputs": [],
   "source": [
    "#Downsample\n",
    "majority_downsampled = resample(majority_class,\n",
    "                                replace=False,  # Sample without replacement\n",
    "                                n_samples=len(minority_class),  # Match number of minority class\n",
    "                                random_state=42)\n",
    "downsampled_data = pd.concat([minority_class, majority_downsampled])"
   ]
  },
  {
   "cell_type": "code",
   "execution_count": 35,
   "id": "80795a4d-9e5f-4d15-8f20-8e8893a87ab5",
   "metadata": {},
   "outputs": [],
   "source": [
    "X_train_downsampled = downsampled_data.drop('TARGET_B', axis=1)\n",
    "y_train_downsampled = downsampled_data['TARGET_B']"
   ]
  },
  {
   "cell_type": "code",
   "execution_count": 36,
   "id": "fe49f54d-4d83-45e1-9a17-4c4c1823dee6",
   "metadata": {},
   "outputs": [],
   "source": [
    "def fit_and_evaluate(X_train, y_train, X_test, y_test):\n",
    "    model = LogisticRegression()\n",
    "    model.fit(X_train, y_train)\n",
    "    y_pred = model.predict(X_test)\n",
    "    accuracy = accuracy_score(y_test, y_pred)\n",
    "    print(f'Accuracy: {accuracy:.2f}')\n",
    "    return accuracy"
   ]
  },
  {
   "cell_type": "code",
   "execution_count": 37,
   "id": "80bdfaa2-3072-42da-8dea-3545751eafca",
   "metadata": {},
   "outputs": [
    {
     "name": "stdout",
     "output_type": "stream",
     "text": [
      "Original data:\n"
     ]
    },
    {
     "name": "stderr",
     "output_type": "stream",
     "text": [
      "C:\\Users\\m-syr\\anaconda3\\Lib\\site-packages\\sklearn\\linear_model\\_logistic.py:458: ConvergenceWarning: lbfgs failed to converge (status=1):\n",
      "STOP: TOTAL NO. of ITERATIONS REACHED LIMIT.\n",
      "\n",
      "Increase the number of iterations (max_iter) or scale the data as shown in:\n",
      "    https://scikit-learn.org/stable/modules/preprocessing.html\n",
      "Please also refer to the documentation for alternative solver options:\n",
      "    https://scikit-learn.org/stable/modules/linear_model.html#logistic-regression\n",
      "  n_iter_i = _check_optimize_result(\n"
     ]
    },
    {
     "name": "stdout",
     "output_type": "stream",
     "text": [
      "Accuracy: 0.95\n",
      "Upsampled data:\n",
      "Accuracy: 0.61\n",
      "Downsampled data:\n",
      "Accuracy: 0.58\n"
     ]
    },
    {
     "name": "stderr",
     "output_type": "stream",
     "text": [
      "C:\\Users\\m-syr\\anaconda3\\Lib\\site-packages\\sklearn\\linear_model\\_logistic.py:458: ConvergenceWarning: lbfgs failed to converge (status=1):\n",
      "STOP: TOTAL NO. of ITERATIONS REACHED LIMIT.\n",
      "\n",
      "Increase the number of iterations (max_iter) or scale the data as shown in:\n",
      "    https://scikit-learn.org/stable/modules/preprocessing.html\n",
      "Please also refer to the documentation for alternative solver options:\n",
      "    https://scikit-learn.org/stable/modules/linear_model.html#logistic-regression\n",
      "  n_iter_i = _check_optimize_result(\n",
      "C:\\Users\\m-syr\\anaconda3\\Lib\\site-packages\\sklearn\\linear_model\\_logistic.py:458: ConvergenceWarning: lbfgs failed to converge (status=1):\n",
      "STOP: TOTAL NO. of ITERATIONS REACHED LIMIT.\n",
      "\n",
      "Increase the number of iterations (max_iter) or scale the data as shown in:\n",
      "    https://scikit-learn.org/stable/modules/preprocessing.html\n",
      "Please also refer to the documentation for alternative solver options:\n",
      "    https://scikit-learn.org/stable/modules/linear_model.html#logistic-regression\n",
      "  n_iter_i = _check_optimize_result(\n"
     ]
    },
    {
     "data": {
      "text/plain": [
       "0.5771629198763297"
      ]
     },
     "execution_count": 37,
     "metadata": {},
     "output_type": "execute_result"
    }
   ],
   "source": [
    "# Original data\n",
    "print(\"Original data:\")\n",
    "fit_and_evaluate(X_train, y_train, X_test, y_test)\n",
    "\n",
    "# Upsampled data\n",
    "print(\"Upsampled data:\")\n",
    "fit_and_evaluate(X_train_upsampled, y_train_upsampled, X_test, y_test)\n",
    "\n",
    "# Downsampled data\n",
    "print(\"Downsampled data:\")\n",
    "fit_and_evaluate(X_train_downsampled, y_train_downsampled, X_test, y_test)"
   ]
  }
 ],
 "metadata": {
  "kernelspec": {
   "display_name": "Python 3 (ipykernel)",
   "language": "python",
   "name": "python3"
  },
  "language_info": {
   "codemirror_mode": {
    "name": "ipython",
    "version": 3
   },
   "file_extension": ".py",
   "mimetype": "text/x-python",
   "name": "python",
   "nbconvert_exporter": "python",
   "pygments_lexer": "ipython3",
   "version": "3.11.7"
  }
 },
 "nbformat": 4,
 "nbformat_minor": 5
}
